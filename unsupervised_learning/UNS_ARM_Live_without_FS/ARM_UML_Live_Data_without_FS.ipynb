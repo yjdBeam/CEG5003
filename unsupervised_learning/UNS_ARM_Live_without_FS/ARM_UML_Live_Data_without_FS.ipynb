{
 "cells": [
  {
   "cell_type": "markdown",
   "id": "4c28b2be",
   "metadata": {},
   "source": [
    "#  Load Packages and Dataset"
   ]
  },
  {
   "cell_type": "code",
   "execution_count": 1,
   "id": "87bd58ee",
   "metadata": {
    "ExecuteTime": {
     "end_time": "2023-10-25T06:44:39.602508600Z",
     "start_time": "2023-10-25T06:44:39.591585500Z"
    }
   },
   "outputs": [],
   "source": [
    "import sys\n",
    "# config the path of your project\n",
    "sys.path.append(r\"F:\\Lecture\\Project\\Project for Network IDS\")"
   ]
  },
  {
   "cell_type": "code",
   "execution_count": 2,
   "id": "71b5ff84-2866-4505-8830-26019f3be46b",
   "metadata": {
    "ExecuteTime": {
     "end_time": "2023-10-25T06:44:39.742514900Z",
     "start_time": "2023-10-25T06:44:39.603509400Z"
    }
   },
   "outputs": [],
   "source": [
    "#importing packages that are necessary\n",
    "from config import *\n",
    "\n",
    "import numpy as np\n",
    "import pandas as pd\n",
    "import matplotlib\n",
    "import matplotlib.pyplot as plt\n",
    "import seaborn as sns\n",
    "import csv\n",
    "%matplotlib inline\n",
    "from tqdm import tqdm\n",
    "from mlxtend.frequent_patterns import apriori, association_rules, fpgrowth"
   ]
  },
  {
   "cell_type": "code",
   "execution_count": 3,
   "id": "9b3f9410",
   "metadata": {
    "ExecuteTime": {
     "end_time": "2023-10-25T06:44:39.756508100Z",
     "start_time": "2023-10-25T06:44:39.741518Z"
    }
   },
   "outputs": [
    {
     "data": {
      "text/plain": "'..\\\\..\\\\dataset\\\\used\\\\live_data.csv'"
     },
     "execution_count": 3,
     "metadata": {},
     "output_type": "execute_result"
    }
   ],
   "source": [
    "LIVE_DATASET_PATH"
   ]
  },
  {
   "cell_type": "code",
   "execution_count": 4,
   "id": "31455ccd",
   "metadata": {
    "ExecuteTime": {
     "end_time": "2023-10-25T06:44:40.028511900Z",
     "start_time": "2023-10-25T06:44:39.757511400Z"
    }
   },
   "outputs": [
    {
     "name": "stdout",
     "output_type": "stream",
     "text": [
      "(99999, 45)\n"
     ]
    },
    {
     "name": "stderr",
     "output_type": "stream",
     "text": [
      "C:\\Users\\Dell\\AppData\\Local\\Temp\\ipykernel_17152\\2084212918.py:2: DtypeWarning: Columns (43) have mixed types. Specify dtype option on import or set low_memory=False.\n",
      "  data = pd.read_csv(LIVE_DATASET_PATH)\n"
     ]
    },
    {
     "data": {
      "text/plain": "       id        dur proto service state  spkts  dpkts  sbytes   dbytes  \\\n0  402569   0.140580   tcp     ssh   FIN    102    102   14616    17238   \n1  534707   1.184566   tcp    http   FIN     14     18    1684    10168   \n2  104396   0.000965   udp     dns   CON      2      2     130      162   \n3  528881   0.153902   tcp       -   FIN     40     40    2542    19502   \n4  608721   0.319568   tcp       -   FIN    122    126    7810    15664   \n5  479894   1.160658   tcp       -   FIN     14     18    1684    10168   \n6  151254   0.008790   tcp       -   FIN     34     36    2230    14816   \n7  460816   1.931781   tcp       -   FIN    122    126    7812    14870   \n8  286074   1.111859   tcp    http   FIN     12     14    1098     9104   \n9  544565  25.765108   tcp    http   FIN    312    746   16706  1087900   \n\n          rate  ...  ct_dst_sport_ltm  ct_dst_src_ltm  is_ftp_login  \\\n0   718.466720  ...                 1               2             0   \n1    10.976489  ...                 1               1             0   \n2  1036.269471  ...                 1               1             0   \n3   253.464254  ...                 1               1             0   \n4   378.636961  ...                 1               1             0   \n5    11.202589  ...                 6               6             0   \n6  3755.286421  ...                 1               1             0   \n7    62.636761  ...                 5               6             0   \n8     9.898256  ...                 1               1             0   \n9    12.070983  ...                 1               1             0   \n\n   ct_ftp_cmd  ct_flw_http_mthd  ct_src_ltm  ct_srv_dst  is_sm_ips_ports  \\\n0           0                 0           2           1                0   \n1           0                 1           2           2                0   \n2           0                 0           2           4                0   \n3           0                 0           3           1                0   \n4           0                 0           2          11                0   \n5           0                 6           6          13                0   \n6           0                 0           3           6                0   \n7           0                 0           8          15                0   \n8           0                 1           4           2                0   \n9           0                 1           2           2                0   \n\n   attack_cat  label  \n0         NaN      0  \n1         NaN      0  \n2         NaN      0  \n3         NaN      0  \n4         NaN      0  \n5         NaN      0  \n6         NaN      0  \n7         NaN      0  \n8         NaN      0  \n9         NaN      0  \n\n[10 rows x 45 columns]",
      "text/html": "<div>\n<style scoped>\n    .dataframe tbody tr th:only-of-type {\n        vertical-align: middle;\n    }\n\n    .dataframe tbody tr th {\n        vertical-align: top;\n    }\n\n    .dataframe thead th {\n        text-align: right;\n    }\n</style>\n<table border=\"1\" class=\"dataframe\">\n  <thead>\n    <tr style=\"text-align: right;\">\n      <th></th>\n      <th>id</th>\n      <th>dur</th>\n      <th>proto</th>\n      <th>service</th>\n      <th>state</th>\n      <th>spkts</th>\n      <th>dpkts</th>\n      <th>sbytes</th>\n      <th>dbytes</th>\n      <th>rate</th>\n      <th>...</th>\n      <th>ct_dst_sport_ltm</th>\n      <th>ct_dst_src_ltm</th>\n      <th>is_ftp_login</th>\n      <th>ct_ftp_cmd</th>\n      <th>ct_flw_http_mthd</th>\n      <th>ct_src_ltm</th>\n      <th>ct_srv_dst</th>\n      <th>is_sm_ips_ports</th>\n      <th>attack_cat</th>\n      <th>label</th>\n    </tr>\n  </thead>\n  <tbody>\n    <tr>\n      <th>0</th>\n      <td>402569</td>\n      <td>0.140580</td>\n      <td>tcp</td>\n      <td>ssh</td>\n      <td>FIN</td>\n      <td>102</td>\n      <td>102</td>\n      <td>14616</td>\n      <td>17238</td>\n      <td>718.466720</td>\n      <td>...</td>\n      <td>1</td>\n      <td>2</td>\n      <td>0</td>\n      <td>0</td>\n      <td>0</td>\n      <td>2</td>\n      <td>1</td>\n      <td>0</td>\n      <td>NaN</td>\n      <td>0</td>\n    </tr>\n    <tr>\n      <th>1</th>\n      <td>534707</td>\n      <td>1.184566</td>\n      <td>tcp</td>\n      <td>http</td>\n      <td>FIN</td>\n      <td>14</td>\n      <td>18</td>\n      <td>1684</td>\n      <td>10168</td>\n      <td>10.976489</td>\n      <td>...</td>\n      <td>1</td>\n      <td>1</td>\n      <td>0</td>\n      <td>0</td>\n      <td>1</td>\n      <td>2</td>\n      <td>2</td>\n      <td>0</td>\n      <td>NaN</td>\n      <td>0</td>\n    </tr>\n    <tr>\n      <th>2</th>\n      <td>104396</td>\n      <td>0.000965</td>\n      <td>udp</td>\n      <td>dns</td>\n      <td>CON</td>\n      <td>2</td>\n      <td>2</td>\n      <td>130</td>\n      <td>162</td>\n      <td>1036.269471</td>\n      <td>...</td>\n      <td>1</td>\n      <td>1</td>\n      <td>0</td>\n      <td>0</td>\n      <td>0</td>\n      <td>2</td>\n      <td>4</td>\n      <td>0</td>\n      <td>NaN</td>\n      <td>0</td>\n    </tr>\n    <tr>\n      <th>3</th>\n      <td>528881</td>\n      <td>0.153902</td>\n      <td>tcp</td>\n      <td>-</td>\n      <td>FIN</td>\n      <td>40</td>\n      <td>40</td>\n      <td>2542</td>\n      <td>19502</td>\n      <td>253.464254</td>\n      <td>...</td>\n      <td>1</td>\n      <td>1</td>\n      <td>0</td>\n      <td>0</td>\n      <td>0</td>\n      <td>3</td>\n      <td>1</td>\n      <td>0</td>\n      <td>NaN</td>\n      <td>0</td>\n    </tr>\n    <tr>\n      <th>4</th>\n      <td>608721</td>\n      <td>0.319568</td>\n      <td>tcp</td>\n      <td>-</td>\n      <td>FIN</td>\n      <td>122</td>\n      <td>126</td>\n      <td>7810</td>\n      <td>15664</td>\n      <td>378.636961</td>\n      <td>...</td>\n      <td>1</td>\n      <td>1</td>\n      <td>0</td>\n      <td>0</td>\n      <td>0</td>\n      <td>2</td>\n      <td>11</td>\n      <td>0</td>\n      <td>NaN</td>\n      <td>0</td>\n    </tr>\n    <tr>\n      <th>5</th>\n      <td>479894</td>\n      <td>1.160658</td>\n      <td>tcp</td>\n      <td>-</td>\n      <td>FIN</td>\n      <td>14</td>\n      <td>18</td>\n      <td>1684</td>\n      <td>10168</td>\n      <td>11.202589</td>\n      <td>...</td>\n      <td>6</td>\n      <td>6</td>\n      <td>0</td>\n      <td>0</td>\n      <td>6</td>\n      <td>6</td>\n      <td>13</td>\n      <td>0</td>\n      <td>NaN</td>\n      <td>0</td>\n    </tr>\n    <tr>\n      <th>6</th>\n      <td>151254</td>\n      <td>0.008790</td>\n      <td>tcp</td>\n      <td>-</td>\n      <td>FIN</td>\n      <td>34</td>\n      <td>36</td>\n      <td>2230</td>\n      <td>14816</td>\n      <td>3755.286421</td>\n      <td>...</td>\n      <td>1</td>\n      <td>1</td>\n      <td>0</td>\n      <td>0</td>\n      <td>0</td>\n      <td>3</td>\n      <td>6</td>\n      <td>0</td>\n      <td>NaN</td>\n      <td>0</td>\n    </tr>\n    <tr>\n      <th>7</th>\n      <td>460816</td>\n      <td>1.931781</td>\n      <td>tcp</td>\n      <td>-</td>\n      <td>FIN</td>\n      <td>122</td>\n      <td>126</td>\n      <td>7812</td>\n      <td>14870</td>\n      <td>62.636761</td>\n      <td>...</td>\n      <td>5</td>\n      <td>6</td>\n      <td>0</td>\n      <td>0</td>\n      <td>0</td>\n      <td>8</td>\n      <td>15</td>\n      <td>0</td>\n      <td>NaN</td>\n      <td>0</td>\n    </tr>\n    <tr>\n      <th>8</th>\n      <td>286074</td>\n      <td>1.111859</td>\n      <td>tcp</td>\n      <td>http</td>\n      <td>FIN</td>\n      <td>12</td>\n      <td>14</td>\n      <td>1098</td>\n      <td>9104</td>\n      <td>9.898256</td>\n      <td>...</td>\n      <td>1</td>\n      <td>1</td>\n      <td>0</td>\n      <td>0</td>\n      <td>1</td>\n      <td>4</td>\n      <td>2</td>\n      <td>0</td>\n      <td>NaN</td>\n      <td>0</td>\n    </tr>\n    <tr>\n      <th>9</th>\n      <td>544565</td>\n      <td>25.765108</td>\n      <td>tcp</td>\n      <td>http</td>\n      <td>FIN</td>\n      <td>312</td>\n      <td>746</td>\n      <td>16706</td>\n      <td>1087900</td>\n      <td>12.070983</td>\n      <td>...</td>\n      <td>1</td>\n      <td>1</td>\n      <td>0</td>\n      <td>0</td>\n      <td>1</td>\n      <td>2</td>\n      <td>2</td>\n      <td>0</td>\n      <td>NaN</td>\n      <td>0</td>\n    </tr>\n  </tbody>\n</table>\n<p>10 rows × 45 columns</p>\n</div>"
     },
     "execution_count": 4,
     "metadata": {},
     "output_type": "execute_result"
    }
   ],
   "source": [
    "#reading training data to understant existing features and dimentions of the same. \n",
    "data = pd.read_csv(LIVE_DATASET_PATH)\n",
    "print(data.shape)\n",
    "data.head(10) #printing the top 10 records"
   ]
  },
  {
   "cell_type": "code",
   "execution_count": 5,
   "id": "9735ba7f",
   "metadata": {
    "ExecuteTime": {
     "end_time": "2023-10-25T06:44:40.226511800Z",
     "start_time": "2023-10-25T06:44:40.031511800Z"
    }
   },
   "outputs": [
    {
     "name": "stdout",
     "output_type": "stream",
     "text": [
      "Rectangle(xy=(-0.4, 0), width=0.8, height=96826, angle=0)\n",
      "Rectangle(xy=(0.6, 0), width=0.8, height=3173, angle=0)\n",
      "[    0.   9999.9 19999.8 29999.7 39999.6 49999.5 59999.4 69999.3 79999.2\n",
      " 89999.1 99999. ]\n"
     ]
    },
    {
     "data": {
      "text/plain": "<Figure size 640x480 with 1 Axes>",
      "image/png": "[encoded data removed]"
     },
     "metadata": {},
     "output_type": "display_data"
    }
   ],
   "source": [
    "total = len(data)*1.\n",
    "ax=sns.countplot(x=\"label\", data=data)\n",
    "for p in ax.patches:\n",
    "    print(p)\n",
    "    ax.annotate('{:.1f}%'.format(100*p.get_height()/total), (p.get_x()+0.3, p.get_height()+5))\n",
    "\n",
    "#on y axis  from 0 to the total number of rows in the dataframe\n",
    "ax.yaxis.set_ticks(np.linspace(0, total, 11))\n",
    "print(ax.yaxis.get_majorticklocs())\n",
    "# with out changing the position converting to percentage on y axis without changing the positions. \n",
    "ax.set_yticklabels(map('{:.1f}%'.format, 100*ax.yaxis.get_majorticklocs()/total))\n",
    "plt.show()"
   ]
  },
  {
   "cell_type": "markdown",
   "id": "7439fe4b",
   "metadata": {},
   "source": [
    "# Data Preprocessing"
   ]
  },
  {
   "cell_type": "markdown",
   "id": "7134ecca",
   "metadata": {},
   "source": [
    "## Features"
   ]
  },
  {
   "cell_type": "code",
   "execution_count": 6,
   "id": "429ce026",
   "metadata": {
    "ExecuteTime": {
     "end_time": "2023-10-25T06:44:40.242538900Z",
     "start_time": "2023-10-25T06:44:40.175533300Z"
    }
   },
   "outputs": [
    {
     "name": "stdout",
     "output_type": "stream",
     "text": [
      "(49, 4)\n"
     ]
    },
    {
     "data": {
      "text/plain": "    No.              Name      Type   \\\n0     1             srcip    nominal   \n1     2             sport    integer   \n2     3             dstip    nominal   \n3     4            dsport    integer   \n4     5             proto    nominal   \n5     6             state    nominal   \n6     7               dur      Float   \n7     8            sbytes    Integer   \n8     9            dbytes    Integer   \n9    10              sttl    Integer   \n10   11              dttl    Integer   \n11   12             sloss    Integer   \n12   13             dloss    Integer   \n13   14           service    nominal   \n14   15             Sload      Float   \n15   16             Dload      Float   \n16   17             Spkts    integer   \n17   18             Dpkts    integer   \n18   19              swin    integer   \n19   20              dwin    integer   \n20   21             stcpb    integer   \n21   22             dtcpb    integer   \n22   23           smeansz    integer   \n23   24           dmeansz    integer   \n24   25       trans_depth    integer   \n25   26       res_bdy_len    integer   \n26   27              Sjit      Float   \n27   28              Djit      Float   \n28   29             Stime  Timestamp   \n29   30             Ltime  Timestamp   \n30   31           Sintpkt      Float   \n31   32           Dintpkt      Float   \n32   33            tcprtt      Float   \n33   34            synack      Float   \n34   35            ackdat      Float   \n35   36   is_sm_ips_ports     Binary   \n36   37      ct_state_ttl    Integer   \n37   38  ct_flw_http_mthd    Integer   \n38   39      is_ftp_login     Binary   \n39   40        ct_ftp_cmd    integer   \n40   41        ct_srv_src    integer   \n41   42        ct_srv_dst    integer   \n42   43        ct_dst_ltm    integer   \n43   44       ct_src_ ltm    integer   \n44   45  ct_src_dport_ltm    integer   \n45   46  ct_dst_sport_ltm    integer   \n46   47    ct_dst_src_ltm    integer   \n47   48        attack_cat    nominal   \n48   49             Label     binary   \n\n                                          Description  \n0                                   Source IP address  \n1                                  Source port number  \n2                              Destination IP address  \n3                             Destination port number  \n4                                Transaction protocol  \n5   Indicates to the state and its dependent proto...  \n6                               Record total duration  \n7            Source to destination transaction bytes   \n8             Destination to source transaction bytes  \n9           Source to destination time to live value   \n10           Destination to source time to live value  \n11           Source packets retransmitted or dropped   \n12       Destination packets retransmitted or dropped  \n13  http, ftp, smtp, ssh, dns, ftp-data ,irc  and ...  \n14                             Source bits per second  \n15                        Destination bits per second  \n16                Source to destination packet count   \n17                 Destination to source packet count  \n18              Source TCP window advertisement value  \n19         Destination TCP window advertisement value  \n20                    Source TCP base sequence number  \n21               Destination TCP base sequence number  \n22  Mean of the ?ow packet size transmitted by the...  \n23  Mean of the ?ow packet size transmitted by the...  \n24  Represents the pipelined depth into the connec...  \n25  Actual uncompressed content size of the data t...  \n26                               Source jitter (mSec)  \n27                          Destination jitter (mSec)  \n28                                  record start time  \n29                                   record last time  \n30             Source interpacket arrival time (mSec)  \n31        Destination interpacket arrival time (mSec)  \n32  TCP connection setup round-trip time, the sum ...  \n33  TCP connection setup time, the time between th...  \n34  TCP connection setup time, the time between th...  \n35  If source (1) and destination (3)IP addresses ...  \n36  No. for each state (6) according to specific r...  \n37  No. of flows that has methods such as Get and ...  \n38  If the ftp session is accessed by user and pas...  \n39     No of flows that has a command in ftp session.  \n40  No. of connections that contain the same servi...  \n41  No. of connections that contain the same servi...  \n42  No. of connections of the same destination add...  \n43  No. of connections of the same source address ...  \n44  No of connections of the same source address (...  \n45  No of connections of the same destination addr...  \n46  No of connections of the same source (1) and t...  \n47  The name of each attack category. In this data...  \n48              0 for normal and 1 for attack records  ",
      "text/html": "<div>\n<style scoped>\n    .dataframe tbody tr th:only-of-type {\n        vertical-align: middle;\n    }\n\n    .dataframe tbody tr th {\n        vertical-align: top;\n    }\n\n    .dataframe thead th {\n        text-align: right;\n    }\n</style>\n<table border=\"1\" class=\"dataframe\">\n  <thead>\n    <tr style=\"text-align: right;\">\n      <th></th>\n      <th>No.</th>\n      <th>Name</th>\n      <th>Type</th>\n      <th>Description</th>\n    </tr>\n  </thead>\n  <tbody>\n    <tr>\n      <th>0</th>\n      <td>1</td>\n      <td>srcip</td>\n      <td>nominal</td>\n      <td>Source IP address</td>\n    </tr>\n    <tr>\n      <th>1</th>\n      <td>2</td>\n      <td>sport</td>\n      <td>integer</td>\n      <td>Source port number</td>\n    </tr>\n    <tr>\n      <th>2</th>\n      <td>3</td>\n      <td>dstip</td>\n      <td>nominal</td>\n      <td>Destination IP address</td>\n    </tr>\n    <tr>\n      <th>3</th>\n      <td>4</td>\n      <td>dsport</td>\n      <td>integer</td>\n      <td>Destination port number</td>\n    </tr>\n    <tr>\n      <th>4</th>\n      <td>5</td>\n      <td>proto</td>\n      <td>nominal</td>\n      <td>Transaction protocol</td>\n    </tr>\n    <tr>\n      <th>5</th>\n      <td>6</td>\n      <td>state</td>\n      <td>nominal</td>\n      <td>Indicates to the state and its dependent proto...</td>\n    </tr>\n    <tr>\n      <th>6</th>\n      <td>7</td>\n      <td>dur</td>\n      <td>Float</td>\n      <td>Record total duration</td>\n    </tr>\n    <tr>\n      <th>7</th>\n      <td>8</td>\n      <td>sbytes</td>\n      <td>Integer</td>\n      <td>Source to destination transaction bytes</td>\n    </tr>\n    <tr>\n      <th>8</th>\n      <td>9</td>\n      <td>dbytes</td>\n      <td>Integer</td>\n      <td>Destination to source transaction bytes</td>\n    </tr>\n    <tr>\n      <th>9</th>\n      <td>10</td>\n      <td>sttl</td>\n      <td>Integer</td>\n      <td>Source to destination time to live value</td>\n    </tr>\n    <tr>\n      <th>10</th>\n      <td>11</td>\n      <td>dttl</td>\n      <td>Integer</td>\n      <td>Destination to source time to live value</td>\n    </tr>\n    <tr>\n      <th>11</th>\n      <td>12</td>\n      <td>sloss</td>\n      <td>Integer</td>\n      <td>Source packets retransmitted or dropped</td>\n    </tr>\n    <tr>\n      <th>12</th>\n      <td>13</td>\n      <td>dloss</td>\n      <td>Integer</td>\n      <td>Destination packets retransmitted or dropped</td>\n    </tr>\n    <tr>\n      <th>13</th>\n      <td>14</td>\n      <td>service</td>\n      <td>nominal</td>\n      <td>http, ftp, smtp, ssh, dns, ftp-data ,irc  and ...</td>\n    </tr>\n    <tr>\n      <th>14</th>\n      <td>15</td>\n      <td>Sload</td>\n      <td>Float</td>\n      <td>Source bits per second</td>\n    </tr>\n    <tr>\n      <th>15</th>\n      <td>16</td>\n      <td>Dload</td>\n      <td>Float</td>\n      <td>Destination bits per second</td>\n    </tr>\n    <tr>\n      <th>16</th>\n      <td>17</td>\n      <td>Spkts</td>\n      <td>integer</td>\n      <td>Source to destination packet count</td>\n    </tr>\n    <tr>\n      <th>17</th>\n      <td>18</td>\n      <td>Dpkts</td>\n      <td>integer</td>\n      <td>Destination to source packet count</td>\n    </tr>\n    <tr>\n      <th>18</th>\n      <td>19</td>\n      <td>swin</td>\n      <td>integer</td>\n      <td>Source TCP window advertisement value</td>\n    </tr>\n    <tr>\n      <th>19</th>\n      <td>20</td>\n      <td>dwin</td>\n      <td>integer</td>\n      <td>Destination TCP window advertisement value</td>\n    </tr>\n    <tr>\n      <th>20</th>\n      <td>21</td>\n      <td>stcpb</td>\n      <td>integer</td>\n      <td>Source TCP base sequence number</td>\n    </tr>\n    <tr>\n      <th>21</th>\n      <td>22</td>\n      <td>dtcpb</td>\n      <td>integer</td>\n      <td>Destination TCP base sequence number</td>\n    </tr>\n    <tr>\n      <th>22</th>\n      <td>23</td>\n      <td>smeansz</td>\n      <td>integer</td>\n      <td>Mean of the ?ow packet size transmitted by the...</td>\n    </tr>\n    <tr>\n      <th>23</th>\n      <td>24</td>\n      <td>dmeansz</td>\n      <td>integer</td>\n      <td>Mean of the ?ow packet size transmitted by the...</td>\n    </tr>\n    <tr>\n      <th>24</th>\n      <td>25</td>\n      <td>trans_depth</td>\n      <td>integer</td>\n      <td>Represents the pipelined depth into the connec...</td>\n    </tr>\n    <tr>\n      <th>25</th>\n      <td>26</td>\n      <td>res_bdy_len</td>\n      <td>integer</td>\n      <td>Actual uncompressed content size of the data t...</td>\n    </tr>\n    <tr>\n      <th>26</th>\n      <td>27</td>\n      <td>Sjit</td>\n      <td>Float</td>\n      <td>Source jitter (mSec)</td>\n    </tr>\n    <tr>\n      <th>27</th>\n      <td>28</td>\n      <td>Djit</td>\n      <td>Float</td>\n      <td>Destination jitter (mSec)</td>\n    </tr>\n    <tr>\n      <th>28</th>\n      <td>29</td>\n      <td>Stime</td>\n      <td>Timestamp</td>\n      <td>record start time</td>\n    </tr>\n    <tr>\n      <th>29</th>\n      <td>30</td>\n      <td>Ltime</td>\n      <td>Timestamp</td>\n      <td>record last time</td>\n    </tr>\n    <tr>\n      <th>30</th>\n      <td>31</td>\n      <td>Sintpkt</td>\n      <td>Float</td>\n      <td>Source interpacket arrival time (mSec)</td>\n    </tr>\n    <tr>\n      <th>31</th>\n      <td>32</td>\n      <td>Dintpkt</td>\n      <td>Float</td>\n      <td>Destination interpacket arrival time (mSec)</td>\n    </tr>\n    <tr>\n      <th>32</th>\n      <td>33</td>\n      <td>tcprtt</td>\n      <td>Float</td>\n      <td>TCP connection setup round-trip time, the sum ...</td>\n    </tr>\n    <tr>\n      <th>33</th>\n      <td>34</td>\n      <td>synack</td>\n      <td>Float</td>\n      <td>TCP connection setup time, the time between th...</td>\n    </tr>\n    <tr>\n      <th>34</th>\n      <td>35</td>\n      <td>ackdat</td>\n      <td>Float</td>\n      <td>TCP connection setup time, the time between th...</td>\n    </tr>\n    <tr>\n      <th>35</th>\n      <td>36</td>\n      <td>is_sm_ips_ports</td>\n      <td>Binary</td>\n      <td>If source (1) and destination (3)IP addresses ...</td>\n    </tr>\n    <tr>\n      <th>36</th>\n      <td>37</td>\n      <td>ct_state_ttl</td>\n      <td>Integer</td>\n      <td>No. for each state (6) according to specific r...</td>\n    </tr>\n    <tr>\n      <th>37</th>\n      <td>38</td>\n      <td>ct_flw_http_mthd</td>\n      <td>Integer</td>\n      <td>No. of flows that has methods such as Get and ...</td>\n    </tr>\n    <tr>\n      <th>38</th>\n      <td>39</td>\n      <td>is_ftp_login</td>\n      <td>Binary</td>\n      <td>If the ftp session is accessed by user and pas...</td>\n    </tr>\n    <tr>\n      <th>39</th>\n      <td>40</td>\n      <td>ct_ftp_cmd</td>\n      <td>integer</td>\n      <td>No of flows that has a command in ftp session.</td>\n    </tr>\n    <tr>\n      <th>40</th>\n      <td>41</td>\n      <td>ct_srv_src</td>\n      <td>integer</td>\n      <td>No. of connections that contain the same servi...</td>\n    </tr>\n    <tr>\n      <th>41</th>\n      <td>42</td>\n      <td>ct_srv_dst</td>\n      <td>integer</td>\n      <td>No. of connections that contain the same servi...</td>\n    </tr>\n    <tr>\n      <th>42</th>\n      <td>43</td>\n      <td>ct_dst_ltm</td>\n      <td>integer</td>\n      <td>No. of connections of the same destination add...</td>\n    </tr>\n    <tr>\n      <th>43</th>\n      <td>44</td>\n      <td>ct_src_ ltm</td>\n      <td>integer</td>\n      <td>No. of connections of the same source address ...</td>\n    </tr>\n    <tr>\n      <th>44</th>\n      <td>45</td>\n      <td>ct_src_dport_ltm</td>\n      <td>integer</td>\n      <td>No of connections of the same source address (...</td>\n    </tr>\n    <tr>\n      <th>45</th>\n      <td>46</td>\n      <td>ct_dst_sport_ltm</td>\n      <td>integer</td>\n      <td>No of connections of the same destination addr...</td>\n    </tr>\n    <tr>\n      <th>46</th>\n      <td>47</td>\n      <td>ct_dst_src_ltm</td>\n      <td>integer</td>\n      <td>No of connections of the same source (1) and t...</td>\n    </tr>\n    <tr>\n      <th>47</th>\n      <td>48</td>\n      <td>attack_cat</td>\n      <td>nominal</td>\n      <td>The name of each attack category. In this data...</td>\n    </tr>\n    <tr>\n      <th>48</th>\n      <td>49</td>\n      <td>Label</td>\n      <td>binary</td>\n      <td>0 for normal and 1 for attack records</td>\n    </tr>\n  </tbody>\n</table>\n</div>"
     },
     "execution_count": 6,
     "metadata": {},
     "output_type": "execute_result"
    }
   ],
   "source": [
    "# description of all features\n",
    "data_features =pd.read_csv(FEATURE_DATASET_PATH, sep=\",\", encoding='cp1252')\n",
    "print(data_features.shape)\n",
    "data_features.head(49)"
   ]
  },
  {
   "cell_type": "code",
   "execution_count": 7,
   "id": "d3183c72",
   "metadata": {
    "ExecuteTime": {
     "end_time": "2023-10-25T06:44:40.243536900Z",
     "start_time": "2023-10-25T06:44:40.176511300Z"
    }
   },
   "outputs": [
    {
     "data": {
      "text/plain": "Index(['proto', 'service', 'state', 'attack_cat'], dtype='object')"
     },
     "execution_count": 7,
     "metadata": {},
     "output_type": "execute_result"
    }
   ],
   "source": [
    "# categorical features\n",
    "cat_feature = data.select_dtypes(include=['category', object]).columns\n",
    "cat_feature"
   ]
  },
  {
   "cell_type": "code",
   "execution_count": 8,
   "id": "80089d2f",
   "metadata": {
    "ExecuteTime": {
     "end_time": "2023-10-25T06:44:40.243536900Z",
     "start_time": "2023-10-25T06:44:40.180509500Z"
    }
   },
   "outputs": [
    {
     "data": {
      "text/plain": "Index(['dur', 'spkts', 'dpkts', 'sbytes', 'dbytes', 'rate', 'sttl', 'dttl',\n       'sload', 'dload', 'sloss', 'dloss', 'sinpkt', 'dinpkt', 'sjit', 'djit',\n       'swin', 'stcpb', 'dtcpb', 'dwin', 'tcprtt', 'synack', 'ackdat', 'smean',\n       'dmean', 'trans_depth', 'response_body_len', 'ct_srv_src',\n       'ct_state_ttl', 'ct_dst_ltm', 'ct_src_dport_ltm', 'ct_dst_sport_ltm',\n       'ct_dst_src_ltm', 'is_ftp_login', 'ct_ftp_cmd', 'ct_flw_http_mthd',\n       'ct_src_ltm', 'ct_srv_dst', 'is_sm_ips_ports'],\n      dtype='object')"
     },
     "execution_count": 8,
     "metadata": {},
     "output_type": "execute_result"
    }
   ],
   "source": [
    "# understaing of numerical features/data/variables\n",
    "numerics = ['int16', 'int32', 'int64', 'float16', 'float32', 'float64']\n",
    "num_features = data.drop(['id','label'], axis=1).select_dtypes(include=numerics).columns\n",
    "num_features"
   ]
  },
  {
   "cell_type": "markdown",
   "id": "059dc1bc",
   "metadata": {},
   "source": [
    "## Split Training and Test Data"
   ]
  },
  {
   "cell_type": "code",
   "execution_count": 9,
   "id": "75bb55fe",
   "metadata": {
    "ExecuteTime": {
     "end_time": "2023-10-25T06:44:40.521685400Z",
     "start_time": "2023-10-25T06:44:40.210509200Z"
    }
   },
   "outputs": [],
   "source": [
    "from sklearn.model_selection import train_test_split\n",
    "X, y = data.iloc[:, :43], data[\"label\"]\n",
    "X_train, X_test, y_train, y_test = train_test_split(X, y, test_size=0.3, random_state=42, shuffle=True)"
   ]
  },
  {
   "cell_type": "markdown",
   "id": "88534e7f",
   "metadata": {},
   "source": [
    "## Dropping Highly Relevant Features"
   ]
  },
  {
   "cell_type": "markdown",
   "id": "0c2606b3",
   "metadata": {},
   "source": [
    "### Feature Correlation"
   ]
  },
  {
   "cell_type": "code",
   "execution_count": 10,
   "id": "d740713d",
   "metadata": {
    "ExecuteTime": {
     "end_time": "2023-10-25T06:44:41.987684500Z",
     "start_time": "2023-10-25T06:44:40.522689600Z"
    }
   },
   "outputs": [
    {
     "ename": "ValueError",
     "evalue": "could not convert string to float: 'tcp'",
     "output_type": "error",
     "traceback": [
      "\u001B[1;31m---------------------------------------------------------------------------\u001B[0m",
      "\u001B[1;31mValueError\u001B[0m                                Traceback (most recent call last)",
      "Cell \u001B[1;32mIn[10], line 3\u001B[0m\n\u001B[0;32m      1\u001B[0m \u001B[38;5;66;03m# from the above graphs while understanding the density of numerical data  we see there is high corelation for certain features. \u001B[39;00m\n\u001B[0;32m      2\u001B[0m \u001B[38;5;66;03m# we shall find the highly corelated data and drop the columns to avoid overhead \u001B[39;00m\n\u001B[1;32m----> 3\u001B[0m df_corr \u001B[38;5;241m=\u001B[39m \u001B[43mX_train\u001B[49m\u001B[38;5;241;43m.\u001B[39;49m\u001B[43mcorr\u001B[49m\u001B[43m(\u001B[49m\u001B[43m)\u001B[49m\n\u001B[0;32m      5\u001B[0m plt\u001B[38;5;241m.\u001B[39mfigure(figsize\u001B[38;5;241m=\u001B[39m(\u001B[38;5;241m30\u001B[39m,\u001B[38;5;241m20\u001B[39m))\n\u001B[0;32m      6\u001B[0m sns\u001B[38;5;241m.\u001B[39mheatmap(df_corr, annot\u001B[38;5;241m=\u001B[39m\u001B[38;5;28;01mTrue\u001B[39;00m, cmap\u001B[38;5;241m=\u001B[39mplt\u001B[38;5;241m.\u001B[39mcm\u001B[38;5;241m.\u001B[39mviridis)\n",
      "File \u001B[1;32mD:\\Environment\\anaconda\\lib\\site-packages\\pandas\\core\\frame.py:10054\u001B[0m, in \u001B[0;36mDataFrame.corr\u001B[1;34m(self, method, min_periods, numeric_only)\u001B[0m\n\u001B[0;32m  10052\u001B[0m cols \u001B[38;5;241m=\u001B[39m data\u001B[38;5;241m.\u001B[39mcolumns\n\u001B[0;32m  10053\u001B[0m idx \u001B[38;5;241m=\u001B[39m cols\u001B[38;5;241m.\u001B[39mcopy()\n\u001B[1;32m> 10054\u001B[0m mat \u001B[38;5;241m=\u001B[39m \u001B[43mdata\u001B[49m\u001B[38;5;241;43m.\u001B[39;49m\u001B[43mto_numpy\u001B[49m\u001B[43m(\u001B[49m\u001B[43mdtype\u001B[49m\u001B[38;5;241;43m=\u001B[39;49m\u001B[38;5;28;43mfloat\u001B[39;49m\u001B[43m,\u001B[49m\u001B[43m \u001B[49m\u001B[43mna_value\u001B[49m\u001B[38;5;241;43m=\u001B[39;49m\u001B[43mnp\u001B[49m\u001B[38;5;241;43m.\u001B[39;49m\u001B[43mnan\u001B[49m\u001B[43m,\u001B[49m\u001B[43m \u001B[49m\u001B[43mcopy\u001B[49m\u001B[38;5;241;43m=\u001B[39;49m\u001B[38;5;28;43;01mFalse\u001B[39;49;00m\u001B[43m)\u001B[49m\n\u001B[0;32m  10056\u001B[0m \u001B[38;5;28;01mif\u001B[39;00m method \u001B[38;5;241m==\u001B[39m \u001B[38;5;124m\"\u001B[39m\u001B[38;5;124mpearson\u001B[39m\u001B[38;5;124m\"\u001B[39m:\n\u001B[0;32m  10057\u001B[0m     correl \u001B[38;5;241m=\u001B[39m libalgos\u001B[38;5;241m.\u001B[39mnancorr(mat, minp\u001B[38;5;241m=\u001B[39mmin_periods)\n",
      "File \u001B[1;32mD:\\Environment\\anaconda\\lib\\site-packages\\pandas\\core\\frame.py:1838\u001B[0m, in \u001B[0;36mDataFrame.to_numpy\u001B[1;34m(self, dtype, copy, na_value)\u001B[0m\n\u001B[0;32m   1836\u001B[0m \u001B[38;5;28;01mif\u001B[39;00m dtype \u001B[38;5;129;01mis\u001B[39;00m \u001B[38;5;129;01mnot\u001B[39;00m \u001B[38;5;28;01mNone\u001B[39;00m:\n\u001B[0;32m   1837\u001B[0m     dtype \u001B[38;5;241m=\u001B[39m np\u001B[38;5;241m.\u001B[39mdtype(dtype)\n\u001B[1;32m-> 1838\u001B[0m result \u001B[38;5;241m=\u001B[39m \u001B[38;5;28;43mself\u001B[39;49m\u001B[38;5;241;43m.\u001B[39;49m\u001B[43m_mgr\u001B[49m\u001B[38;5;241;43m.\u001B[39;49m\u001B[43mas_array\u001B[49m\u001B[43m(\u001B[49m\u001B[43mdtype\u001B[49m\u001B[38;5;241;43m=\u001B[39;49m\u001B[43mdtype\u001B[49m\u001B[43m,\u001B[49m\u001B[43m \u001B[49m\u001B[43mcopy\u001B[49m\u001B[38;5;241;43m=\u001B[39;49m\u001B[43mcopy\u001B[49m\u001B[43m,\u001B[49m\u001B[43m \u001B[49m\u001B[43mna_value\u001B[49m\u001B[38;5;241;43m=\u001B[39;49m\u001B[43mna_value\u001B[49m\u001B[43m)\u001B[49m\n\u001B[0;32m   1839\u001B[0m \u001B[38;5;28;01mif\u001B[39;00m result\u001B[38;5;241m.\u001B[39mdtype \u001B[38;5;129;01mis\u001B[39;00m \u001B[38;5;129;01mnot\u001B[39;00m dtype:\n\u001B[0;32m   1840\u001B[0m     result \u001B[38;5;241m=\u001B[39m np\u001B[38;5;241m.\u001B[39marray(result, dtype\u001B[38;5;241m=\u001B[39mdtype, copy\u001B[38;5;241m=\u001B[39m\u001B[38;5;28;01mFalse\u001B[39;00m)\n",
      "File \u001B[1;32mD:\\Environment\\anaconda\\lib\\site-packages\\pandas\\core\\internals\\managers.py:1732\u001B[0m, in \u001B[0;36mBlockManager.as_array\u001B[1;34m(self, dtype, copy, na_value)\u001B[0m\n\u001B[0;32m   1730\u001B[0m         arr\u001B[38;5;241m.\u001B[39mflags\u001B[38;5;241m.\u001B[39mwriteable \u001B[38;5;241m=\u001B[39m \u001B[38;5;28;01mFalse\u001B[39;00m\n\u001B[0;32m   1731\u001B[0m \u001B[38;5;28;01melse\u001B[39;00m:\n\u001B[1;32m-> 1732\u001B[0m     arr \u001B[38;5;241m=\u001B[39m \u001B[38;5;28;43mself\u001B[39;49m\u001B[38;5;241;43m.\u001B[39;49m\u001B[43m_interleave\u001B[49m\u001B[43m(\u001B[49m\u001B[43mdtype\u001B[49m\u001B[38;5;241;43m=\u001B[39;49m\u001B[43mdtype\u001B[49m\u001B[43m,\u001B[49m\u001B[43m \u001B[49m\u001B[43mna_value\u001B[49m\u001B[38;5;241;43m=\u001B[39;49m\u001B[43mna_value\u001B[49m\u001B[43m)\u001B[49m\n\u001B[0;32m   1733\u001B[0m     \u001B[38;5;66;03m# The underlying data was copied within _interleave, so no need\u001B[39;00m\n\u001B[0;32m   1734\u001B[0m     \u001B[38;5;66;03m# to further copy if copy=True or setting na_value\u001B[39;00m\n\u001B[0;32m   1736\u001B[0m \u001B[38;5;28;01mif\u001B[39;00m na_value \u001B[38;5;129;01mis\u001B[39;00m \u001B[38;5;129;01mnot\u001B[39;00m lib\u001B[38;5;241m.\u001B[39mno_default:\n",
      "File \u001B[1;32mD:\\Environment\\anaconda\\lib\\site-packages\\pandas\\core\\internals\\managers.py:1794\u001B[0m, in \u001B[0;36mBlockManager._interleave\u001B[1;34m(self, dtype, na_value)\u001B[0m\n\u001B[0;32m   1792\u001B[0m     \u001B[38;5;28;01melse\u001B[39;00m:\n\u001B[0;32m   1793\u001B[0m         arr \u001B[38;5;241m=\u001B[39m blk\u001B[38;5;241m.\u001B[39mget_values(dtype)\n\u001B[1;32m-> 1794\u001B[0m     result[rl\u001B[38;5;241m.\u001B[39mindexer] \u001B[38;5;241m=\u001B[39m arr\n\u001B[0;32m   1795\u001B[0m     itemmask[rl\u001B[38;5;241m.\u001B[39mindexer] \u001B[38;5;241m=\u001B[39m \u001B[38;5;241m1\u001B[39m\n\u001B[0;32m   1797\u001B[0m \u001B[38;5;28;01mif\u001B[39;00m \u001B[38;5;129;01mnot\u001B[39;00m itemmask\u001B[38;5;241m.\u001B[39mall():\n",
      "\u001B[1;31mValueError\u001B[0m: could not convert string to float: 'tcp'"
     ]
    }
   ],
   "source": [
    "# from the above graphs while understanding the density of numerical data  we see there is high corelation for certain features. \n",
    "# we shall find the highly corelated data and drop the columns to avoid overhead \n",
    "df_corr = X_train.corr()\n",
    "\n",
    "plt.figure(figsize=(30,20))\n",
    "sns.heatmap(df_corr, annot=True, cmap=plt.cm.viridis)\n",
    "plt.savefig('figures/correlation_matrix.png')\n",
    "plt.show()"
   ]
  },
  {
   "cell_type": "markdown",
   "id": "5f204430",
   "metadata": {},
   "source": [
    "### Drop Features Correlation Above 0.95"
   ]
  },
  {
   "cell_type": "code",
   "execution_count": null,
   "id": "fc324bf8",
   "metadata": {
    "ExecuteTime": {
     "start_time": "2023-10-25T06:44:41.983688700Z"
    }
   },
   "outputs": [],
   "source": [
    "from utils.graph_utils import *\n",
    "fig_name = \"figures/cor_matrix\"\n",
    "visualize_cor_matrix(fig_name, X_train)"
   ]
  },
  {
   "cell_type": "code",
   "execution_count": null,
   "id": "69b2e3fd",
   "metadata": {
    "ExecuteTime": {
     "start_time": "2023-10-25T06:44:41.985685200Z"
    }
   },
   "outputs": [],
   "source": [
    "# we shall find the correlation above 0.95 andn shall drop the columns to avoid overhead  \n",
    "high_corr_var=np.where(df_corr>0.95)\n",
    "high_corr_var\n",
    "# for x,y in zip(*high_corr_var):  解包操作符（unpacking operator）\n",
    "#     print(x, y)\n",
    "#calculate correlation betweena ll columns and remove highly correlated one\n",
    "high_corr_var_pairs=[(df_corr.columns[x],df_corr.columns[y]) \n",
    "               for x,y in zip(*high_corr_var)\n",
    "               if x!=y and x<y]\n",
    "high_corr_var_pairs"
   ]
  },
  {
   "cell_type": "code",
   "execution_count": null,
   "id": "e1ef5078",
   "metadata": {
    "ExecuteTime": {
     "start_time": "2023-10-25T06:44:41.986686500Z"
    }
   },
   "outputs": [],
   "source": [
    "# Remove highly correlated features\n",
    "corr_matrix = X_train.corr().abs()\n",
    "upper_tri = corr_matrix.where(np.triu(np.ones(corr_matrix.shape),k=1).astype(bool))\n",
    "to_drop = [column for column in upper_tri.columns if any(upper_tri[column] > 0.95)]\n",
    "X_train = X_train.drop(to_drop, axis=1)\n",
    "\n",
    "# Print summary of dropped features\n",
    "print(f\"Dropped {len(to_drop)} highly correlated features:\")\n",
    "for feature in to_drop:\n",
    "    print(f\"- {feature}\")\n",
    "    \n",
    "# Print summary of remaining features\n",
    "print(f\"\\n{len(X_train.columns)} features remaining:\")\n",
    "print(X_train.columns.tolist())\n"
   ]
  },
  {
   "cell_type": "markdown",
   "id": "a18e131d",
   "metadata": {},
   "source": [
    "## Feature Mapping （category to numarical）"
   ]
  },
  {
   "cell_type": "code",
   "execution_count": null,
   "id": "47fe5e3b",
   "metadata": {
    "ExecuteTime": {
     "start_time": "2023-10-25T06:44:41.987684500Z"
    }
   },
   "outputs": [],
   "source": [
    "#lets find any catagorial data and lable it usinng lable encoder  with out disturbing the shape/dimentions\n",
    "cat_feature = X_train.select_dtypes(include=['category', object]).columns\n",
    "cat_feature"
   ]
  },
  {
   "cell_type": "code",
   "execution_count": null,
   "id": "6671fc06",
   "metadata": {},
   "outputs": [],
   "source": [
    "from sklearn.preprocessing import LabelEncoder\n",
    "X_train[cat_feature] = X_train[cat_feature].apply(LabelEncoder().fit_transform)\n",
    "X_train.head()"
   ]
  },
  {
   "cell_type": "code",
   "execution_count": null,
   "id": "dbcd266f",
   "metadata": {},
   "outputs": [],
   "source": [
    "col_set = X_train.columns.tolist()\n",
    "with open(\"txts/feature_selected.txt\", \"w\") as file:\n",
    "    file.write(str(list(col_set)))"
   ]
  },
  {
   "cell_type": "markdown",
   "id": "0ae9b70d",
   "metadata": {},
   "source": [
    "Apply Blooms Filter betwen Rules genrated from orginal data and Live data (previously any)\n",
    "\n",
    "For an initial round, we still apply blooms filter, code is designed in such a way that it stores the same rules generated from original data, which will nnot have any effect onn the first round. "
   ]
  },
  {
   "cell_type": "markdown",
   "id": "89df37db",
   "metadata": {},
   "source": [
    "# ML Process"
   ]
  },
  {
   "cell_type": "markdown",
   "id": "7a312f98",
   "metadata": {},
   "source": [
    "## Construct Dataset with Selected Features"
   ]
  },
  {
   "cell_type": "markdown",
   "id": "baf62028",
   "metadata": {},
   "source": [
    "Prepare Extracted train data  from Original Data D\n",
    "\n",
    "2.1. Using the rules repository R obtained in step 1.3, \n",
    "extract the relevant features from the Original Data D and \n",
    "create a new Train data D' containing only these features."
   ]
  },
  {
   "cell_type": "code",
   "execution_count": null,
   "id": "516b49bf",
   "metadata": {},
   "outputs": [],
   "source": [
    "from sklearn.preprocessing import LabelEncoder\n",
    "\n",
    "X_test[cat_feature] = X_test[cat_feature].apply(LabelEncoder().fit_transform)\n",
    "df_train = X_train[list(col_set)]\n",
    "df_test = X_test[list(col_set)]"
   ]
  },
  {
   "cell_type": "code",
   "execution_count": null,
   "id": "e51cbe26",
   "metadata": {},
   "outputs": [],
   "source": [
    "df_train"
   ]
  },
  {
   "cell_type": "code",
   "execution_count": null,
   "id": "e2d2495f",
   "metadata": {},
   "outputs": [],
   "source": [
    "df_test"
   ]
  },
  {
   "cell_type": "markdown",
   "id": "f45dd6c4",
   "metadata": {},
   "source": [
    "Train the Machine and Standardize the data\n",
    "\n",
    "4.1. Train a machine learning model on the preprocessed D' obtained in step 2.1."
   ]
  },
  {
   "cell_type": "code",
   "execution_count": null,
   "id": "b28f9a62",
   "metadata": {},
   "outputs": [],
   "source": [
    "from sklearn import preprocessing\n",
    "x = df_train.values\n",
    "x_test = df_test.values\n",
    "std_scaler = preprocessing.MinMaxScaler()\n",
    "std_scaler.fit(x)\n",
    "x_scaled = std_scaler.transform(x)\n",
    "df_train = pd.DataFrame(x_scaled)\n",
    "x_scaled_test = std_scaler.transform(x_test)\n",
    "df_test = pd.DataFrame(x_scaled_test)"
   ]
  },
  {
   "cell_type": "code",
   "execution_count": null,
   "id": "4e5b6e08",
   "metadata": {},
   "outputs": [],
   "source": [
    "df_train.head()"
   ]
  },
  {
   "cell_type": "code",
   "execution_count": null,
   "id": "77cecb12",
   "metadata": {},
   "outputs": [],
   "source": [
    "print(\"train data shape\", df_train.shape, y_train.shape)\n",
    "print(\"test data shape\", df_test.shape, y_test.shape)"
   ]
  },
  {
   "cell_type": "markdown",
   "id": "e797c2cd",
   "metadata": {},
   "source": [
    "## Models"
   ]
  },
  {
   "cell_type": "code",
   "execution_count": null,
   "id": "6dd69a41",
   "metadata": {},
   "outputs": [],
   "source": [
    "# from sklearn.model_selection import RandomizedSearchCV, GridSearchCV, train_test_split\n",
    "# from sklearn.datasets import make_classification\n",
    "# from sklearn.preprocessing import LabelEncoder, OneHotEncoder, Normalizer\n",
    "\n",
    "# import xgboost as xgb\n",
    "# from sklearn.calibration import CalibratedClassifierCV\n",
    "# from sklearn.neighbors import KNeighborsClassifier\n",
    "# from sklearn.linear_model import LogisticRegression, SGDClassifier\n",
    "# from sklearn.ensemble import RandomForestClassifier, VotingClassifier, StackingClassifier, GradientBoostingClassifier, AdaBoostClassifier\n",
    "# from sklearn.svm import SVC\n",
    "# from sklearn.tree import DecisionTreeClassifier"
   ]
  },
  {
   "cell_type": "code",
   "execution_count": null,
   "id": "0f755724",
   "metadata": {},
   "outputs": [],
   "source": [
    "from pyod.models import lof, cblof, cof, pca, iforest, knn, mcd, ocsvm, abod, hbos, inne\n",
    "# from pyod.models.feature_bagging import FeatureBagging \n",
    "from sklearn.metrics import log_loss, accuracy_score, f1_score, confusion_matrix, roc_curve, auc\n",
    "from collections import defaultdict\n",
    "\n",
    "import warnings\n",
    "warnings.filterwarnings('ignore')"
   ]
  },
  {
   "cell_type": "code",
   "execution_count": null,
   "id": "81fa2126",
   "metadata": {},
   "outputs": [],
   "source": [
    "outliers_fraction = 0.05\n",
    "# random_state = np.random.RandomState(42) \n",
    "\n",
    "classifiers = { \n",
    "#         'Angle-based Outlier Detector (ABOD)': abod.ABOD(contamination=outliers_fraction), \n",
    "        'Cluster-based Local Outlier Factor (CBLOF)':cblof.CBLOF(contamination=outliers_fraction,check_estimator=False, random_state=1), \n",
    "#         'Feature Bagging':FeatureBagging(lof.LOF(n_neighbors=35),contamination=outliers_fraction,check_estimator=False,\n",
    "# random_state=random_state), \n",
    "        'Histogram-base Outlier Detection (HBOS)': hbos.HBOS(contamination=outliers_fraction), \n",
    "        'Isolation Forest': iforest.IForest(contamination=outliers_fraction, random_state=1), \n",
    "        'Isolation-based Anomaly Detection Using Nearest-Neighbor Ensembles': inne.INNE(contamination=outliers_fraction, random_state=1)\n",
    "#         'K Nearest Neighbors (KNN)': knn.KNN(contamination=outliers_fraction), \n",
    "#         'Average KNN': knn.KNN(method='mean',contamination=outliers_fraction) \n",
    "} \n",
    "\n",
    "metrics = defaultdict(list)"
   ]
  },
  {
   "cell_type": "code",
   "execution_count": null,
   "id": "36be4ac3",
   "metadata": {},
   "outputs": [],
   "source": [
    "# Acc of train: 0.41369\n",
    "# F1_weighted of train: 0.40623\n",
    "# Acc of test: 0.68055\n",
    "# F1_weighted of train: 0.55322"
   ]
  },
  {
   "cell_type": "code",
   "execution_count": null,
   "id": "dea22f0a",
   "metadata": {},
   "outputs": [],
   "source": [
    "# df_train = df_train.iloc[:1000]\n",
    "# y_test = pd.concat([y_test[y_test == 0].head(100), y_test[y_test == 1].head(100)])\n",
    "# df_test = df_test.loc[y_test.index]\n",
    "\n",
    "for i, (clf_name, clf) in enumerate(classifiers.items()): \n",
    "    clf.fit(df_train)\n",
    "    y_predict = clf.predict(df_test)\n",
    "    y_predict_tr = clf.predict(df_train)\n",
    "    # compute metrics\n",
    "    cm = confusion_matrix(y_test, y_predict)\n",
    "    tn, fp, fn, tp = cm.ravel()\n",
    "    fpr = fp/(fp+tn)*100\n",
    "    fnr = fn/(fn+tp)*100\n",
    "    far = (fpr+fnr)/2\n",
    "    fpr_te, tpr_te, t_te = roc_curve(y_test, y_predict)\n",
    "    auc_value = auc(fpr_te, tpr_te)\n",
    "    metrics[clf_name].append(accuracy_score(y_test, y_predict))\n",
    "    metrics[clf_name].append(f1_score(y_test, y_predict))\n",
    "    metrics[clf_name].append(auc_value)\n",
    "    metrics[clf_name].append(fpr)\n",
    "    metrics[clf_name].append(fnr)\n",
    "    metrics[clf_name].append(far)\n",
    "    print(f\"Training of {i} {clf_name} finished\")\n",
    "#     print(f'Acc of test: {accuracy_score(y_test, predictions):.5f}')\n",
    "#     print(f\"F1_weighted of train: {f1_score(y_test, predictions, average='weighted'):.5f}\")\n",
    "metrics"
   ]
  },
  {
   "cell_type": "markdown",
   "id": "87ac0230",
   "metadata": {},
   "source": [
    "# Model Evaluation"
   ]
  },
  {
   "cell_type": "code",
   "execution_count": null,
   "id": "0bba0ff1",
   "metadata": {},
   "outputs": [],
   "source": [
    "#Model Evaluation\n",
    "import prettytable\n",
    "from prettytable import PrettyTable\n",
    "x = PrettyTable()\n",
    "x.field_names = [\"Model\", \"F1 Score\", \"AUC\",\"FPR %\",\"FNR %\",\"FAR %\"]\n",
    "for model_name, model_metrics_list in metrics.items():\n",
    "    acc, f1, auc, fpr, fnr, far = model_metrics_list\n",
    "    print(model_name, acc)\n",
    "    x.add_row([model_name, \"{0:.4f}\".format(f1), \"{0:.4f}\".format(auc), \"{:.2f}\".format(fpr), \"{:.2f}\".format(fnr), \"{:.2f}\".format(far)])\n",
    "\n",
    "print(x)"
   ]
  },
  {
   "cell_type": "code",
   "execution_count": null,
   "id": "a0d3b0cc",
   "metadata": {},
   "outputs": [],
   "source": [
    "import csv\n",
    "csv_file_path = \"csvs/model_evaluation.csv\"\n",
    "table_data = [\n",
    "    [\"Model\", \"F1 Score\", \"AUC\", \"FPR %\", \"FNR %\", \"FAR %\"]\n",
    "]\n",
    "\n",
    "for model_name, model_metrics_list in metrics.items():\n",
    "    table_data.append([model_name] + [round(value, 4) for value in model_metrics_list[1:]])\n",
    "\n",
    "with open(csv_file_path, mode='w', newline='') as csv_file:\n",
    "    csv_writer = csv.writer(csv_file)\n",
    "    csv_writer.writerows(table_data)\n",
    "\n",
    "print(f\"Data has been written to {csv_file_path}\")"
   ]
  },
  {
   "cell_type": "code",
   "execution_count": null,
   "id": "03beb22b",
   "metadata": {},
   "outputs": [],
   "source": []
  }
 ],
 "metadata": {
  "kernelspec": {
   "display_name": "Python 3 (ipykernel)",
   "language": "python",
   "name": "python3"
  },
  "language_info": {
   "codemirror_mode": {
    "name": "ipython",
    "version": 3
   },
   "file_extension": ".py",
   "mimetype": "text/x-python",
   "name": "python",
   "nbconvert_exporter": "python",
   "pygments_lexer": "ipython3",
   "version": "3.9.12"
  },
  "toc": {
   "base_numbering": 1,
   "nav_menu": {},
   "number_sections": true,
   "sideBar": true,
   "skip_h1_title": false,
   "title_cell": "Table of Contents",
   "title_sidebar": "Contents",
   "toc_cell": false,
   "toc_position": {
    "height": "calc(100% - 180px)",
    "left": "10px",
    "top": "150px",
    "width": "384.262px"
   },
   "toc_section_display": true,
   "toc_window_display": true
  },
  "varInspector": {
   "cols": {
    "lenName": 16,
    "lenType": 16,
    "lenVar": 40
   },
   "kernels_config": {
    "python": {
     "delete_cmd_postfix": "",
     "delete_cmd_prefix": "del ",
     "library": "var_list.py",
     "varRefreshCmd": "print(var_dic_list())"
    },
    "r": {
     "delete_cmd_postfix": ") ",
     "delete_cmd_prefix": "rm(",
     "library": "var_list.r",
     "varRefreshCmd": "cat(var_dic_list()) "
    }
   },
   "types_to_exclude": [
    "module",
    "function",
    "builtin_function_or_method",
    "instance",
    "_Feature"
   ],
   "window_display": false
  },
  "widgets": {
   "application/vnd.jupyter.widget-state+json": {
    "state": {},
    "version_major": 2,
    "version_minor": 0
   }
  }
 },
 "nbformat": 4,
 "nbformat_minor": 5
}
